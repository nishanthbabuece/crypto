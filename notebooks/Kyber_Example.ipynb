# File: notebooks/Kyber_Example.ipynb
# Jupyter notebook code (Python) example
"""
import sys
sys.path.append('../src')
from kyber.kyber import generate_keys, encapsulate, decapsulate

# Generate keys
pk, sk = generate_keys()
print('Public Key:', pk[:10], '...')

# Encapsulate
ciphertext, shared_secret = encapsulate(pk)
print('Ciphertext:', ciphertext[:10], '...')
print('Shared Secret:', shared_secret[:10], '...')

# Decapsulate
recovered_secret = decapsulate(ciphertext, sk)
print('Recovered Secret matches:', recovered_secret == shared_secret)
"""
