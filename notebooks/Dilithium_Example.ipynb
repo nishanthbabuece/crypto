"""
import sys
sys.path.append('../src')
from dilithium.dilithium import generate_keys, sign, verify

# Generate keys
pk, sk = generate_keys()

# Sign message
message = 'Hello PQC'
signature = sign(message, sk)
print('Signature:', signature[:10], '...')

# Verify
valid = verify(message, signature, pk)
print('Signature valid:', valid)
"""
